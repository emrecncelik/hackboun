{
 "cells": [
  {
   "cell_type": "code",
   "execution_count": 118,
   "metadata": {},
   "outputs": [],
   "source": [
    "import pandas as pd "
   ]
  },
  {
   "cell_type": "code",
   "execution_count": 119,
   "metadata": {},
   "outputs": [],
   "source": [
    "xl_file = pd.read_excel(\"ghgp_data_2020.xlsx\",sheet_name=\"Direct Emitters\")"
   ]
  },
  {
   "cell_type": "code",
   "execution_count": 120,
   "metadata": {},
   "outputs": [],
   "source": [
    "df = xl_file.iloc[2:,:]"
   ]
  },
  {
   "cell_type": "code",
   "execution_count": 1,
   "metadata": {},
   "outputs": [
    {
     "name": "stdout",
     "output_type": "stream",
     "text": [
      "v2\n"
     ]
    }
   ],
   "source": [
    "print(\"v2\")"
   ]
  },
  {
   "cell_type": "code",
   "execution_count": 121,
   "metadata": {},
   "outputs": [],
   "source": [
    "new_header = df.iloc[0] #Get the first row for the header\n",
    "df = df[1:] #Take the data less the header row\n",
    "df.columns = new_header #Set the header row as the df header"
   ]
  },
  {
   "cell_type": "code",
   "execution_count": 122,
   "metadata": {},
   "outputs": [
    {
     "data": {
      "text/plain": [
       "Index(['Facility Id', 'FRS Id', 'Facility Name', 'City', 'State', 'Zip Code',\n",
       "       'Address', 'County', 'Latitude', 'Longitude', 'Primary NAICS Code',\n",
       "       'Industry Type (subparts)', 'Industry Type (sectors)',\n",
       "       'Total reported direct emissions', 'CO2 emissions (non-biogenic) ',\n",
       "       'Methane (CH4) emissions ', 'Nitrous Oxide (N2O) emissions ',\n",
       "       'HFC emissions', 'PFC emissions', 'SF6 emissions ', 'NF3 emissions',\n",
       "       'Other Fully Fluorinated GHG emissions', 'HFE emissions',\n",
       "       'Very Short-lived Compounds emissions', 'Other GHGs (metric tons CO2e)',\n",
       "       'Biogenic CO2 emissions (metric tons)', 'Stationary Combustion',\n",
       "       'Electricity Generation', 'Adipic Acid Production',\n",
       "       'Aluminum Production', 'Ammonia Manufacturing', 'Cement Production',\n",
       "       'Electronics Manufacture', 'Ferroalloy Production',\n",
       "       'Fluorinated GHG Production', 'Glass Production',\n",
       "       'HCFC–22 Production from HFC–23 Destruction', 'Hydrogen Production',\n",
       "       'Iron and Steel Production', 'Lead Production', 'Lime Production',\n",
       "       'Magnesium Production', 'Miscellaneous Use of Carbonates',\n",
       "       'Nitric Acid Production',\n",
       "       'Petroleum and Natural Gas Systems – Offshore Production',\n",
       "       'Petroleum and Natural Gas Systems – Processing',\n",
       "       'Petroleum and Natural Gas Systems – Transmission/Compression',\n",
       "       'Petroleum and Natural Gas Systems – Underground Storage',\n",
       "       'Petroleum and Natural Gas Systems – LNG Storage',\n",
       "       'Petroleum and Natural Gas Systems – LNG Import/Export',\n",
       "       'Petrochemical Production', 'Petroleum Refining',\n",
       "       'Phosphoric Acid Production', 'Pulp and Paper Manufacturing',\n",
       "       'Silicon Carbide Production', 'Soda Ash Manufacturing',\n",
       "       'Titanium Dioxide Production', 'Underground Coal Mines',\n",
       "       'Zinc Production', 'Municipal Landfills',\n",
       "       'Industrial Wastewater Treatment',\n",
       "       'Manufacture of Electric Transmission and Distribution Equipment',\n",
       "       'Industrial Waste Landfills',\n",
       "       'Is some CO2 collected on-site and used to manufacture other products and therefore not emitted from the affected manufacturing process unit(s)? (as reported under Subpart G or S)',\n",
       "       'Is some CO2 reported as emissions from the affected manufacturing process unit(s) under Subpart AA, G or P collected and transferred off-site or injected (as reported under Subpart PP)?',\n",
       "       'Does the facility employ continuous emissions monitoring? '],\n",
       "      dtype='object', name=2)"
      ]
     },
     "execution_count": 122,
     "metadata": {},
     "output_type": "execute_result"
    }
   ],
   "source": [
    "df.columns"
   ]
  },
  {
   "cell_type": "code",
   "execution_count": 123,
   "metadata": {},
   "outputs": [],
   "source": [
    "Companies = df[[\"Facility Name\",\"Industry Type (sectors)\",\"Total reported direct emissions\"]]"
   ]
  },
  {
   "cell_type": "code",
   "execution_count": 124,
   "metadata": {},
   "outputs": [
    {
     "data": {
      "text/plain": [
       "3           504064\n",
       "4          60819.7\n",
       "5        40521.812\n",
       "6       100500.948\n",
       "7         29359.64\n",
       "           ...    \n",
       "6513     22359.122\n",
       "6514    325679.418\n",
       "6515             0\n",
       "6516      650907.1\n",
       "6517      89476.75\n",
       "Name: Total reported direct emissions, Length: 6515, dtype: object"
      ]
     },
     "execution_count": 124,
     "metadata": {},
     "output_type": "execute_result"
    }
   ],
   "source": [
    "Companies[\"Total reported direct emissions\"] "
   ]
  },
  {
   "cell_type": "code",
   "execution_count": 125,
   "metadata": {},
   "outputs": [
    {
     "data": {
      "text/plain": [
       "2\n",
       "Facility Name                       object\n",
       "Industry Type (sectors)             object\n",
       "Total reported direct emissions    float64\n",
       "dtype: object"
      ]
     },
     "execution_count": 125,
     "metadata": {},
     "output_type": "execute_result"
    }
   ],
   "source": [
    "df2 = Companies.astype({\"Total reported direct emissions\": float}, errors='raise') \n",
    "df2.dtypes"
   ]
  },
  {
   "cell_type": "code",
   "execution_count": 126,
   "metadata": {},
   "outputs": [],
   "source": [
    "df2= df2[df2[\"Total reported direct emissions\"]<200000]"
   ]
  },
  {
   "cell_type": "code",
   "execution_count": 127,
   "metadata": {},
   "outputs": [],
   "source": [
    "meanCo2 = df2[\"Total reported direct emissions\"].mean()"
   ]
  },
  {
   "cell_type": "code",
   "execution_count": 128,
   "metadata": {},
   "outputs": [
    {
     "data": {
      "text/plain": [
       "58259.61328191368"
      ]
     },
     "execution_count": 128,
     "metadata": {},
     "output_type": "execute_result"
    }
   ],
   "source": [
    "meanCo2"
   ]
  },
  {
   "cell_type": "code",
   "execution_count": 129,
   "metadata": {},
   "outputs": [],
   "source": [
    "stdCo2 = df2[\"Total reported direct emissions\"].std()"
   ]
  },
  {
   "cell_type": "code",
   "execution_count": 130,
   "metadata": {},
   "outputs": [],
   "source": [
    "Tesla = df2[df2.iloc[:,0] == \"Tesla, Inc.\"]"
   ]
  },
  {
   "cell_type": "code",
   "execution_count": 131,
   "metadata": {},
   "outputs": [
    {
     "data": {
      "text/html": [
       "<div>\n",
       "<style scoped>\n",
       "    .dataframe tbody tr th:only-of-type {\n",
       "        vertical-align: middle;\n",
       "    }\n",
       "\n",
       "    .dataframe tbody tr th {\n",
       "        vertical-align: top;\n",
       "    }\n",
       "\n",
       "    .dataframe thead th {\n",
       "        text-align: right;\n",
       "    }\n",
       "</style>\n",
       "<table border=\"1\" class=\"dataframe\">\n",
       "  <thead>\n",
       "    <tr style=\"text-align: right;\">\n",
       "      <th>2</th>\n",
       "      <th>Facility Name</th>\n",
       "      <th>Industry Type (sectors)</th>\n",
       "      <th>Total reported direct emissions</th>\n",
       "    </tr>\n",
       "  </thead>\n",
       "  <tbody>\n",
       "    <tr>\n",
       "      <th>5789</th>\n",
       "      <td>Tesla, Inc.</td>\n",
       "      <td>Other</td>\n",
       "      <td>28075.544</td>\n",
       "    </tr>\n",
       "  </tbody>\n",
       "</table>\n",
       "</div>"
      ],
      "text/plain": [
       "2    Facility Name Industry Type (sectors)  Total reported direct emissions\n",
       "5789   Tesla, Inc.                   Other                        28075.544"
      ]
     },
     "execution_count": 131,
     "metadata": {},
     "output_type": "execute_result"
    }
   ],
   "source": [
    "Tesla"
   ]
  },
  {
   "cell_type": "code",
   "execution_count": 132,
   "metadata": {},
   "outputs": [
    {
     "data": {
      "text/plain": [
       "4983"
      ]
     },
     "execution_count": 132,
     "metadata": {},
     "output_type": "execute_result"
    }
   ],
   "source": [
    "df2[\"Total reported direct emissions\"].size"
   ]
  },
  {
   "cell_type": "code",
   "execution_count": 133,
   "metadata": {},
   "outputs": [],
   "source": [
    "df2[\"stdCo2\"] = (df2[\"Total reported direct emissions\"] - meanCo2) / stdCo2"
   ]
  },
  {
   "cell_type": "code",
   "execution_count": 134,
   "metadata": {},
   "outputs": [],
   "source": [
    "df2[\"PercentCo2\"] = (df2[\"Total reported direct emissions\"] - meanCo2) / meanCo2"
   ]
  },
  {
   "cell_type": "code",
   "execution_count": 135,
   "metadata": {},
   "outputs": [
    {
     "data": {
      "text/html": [
       "<div>\n",
       "<style scoped>\n",
       "    .dataframe tbody tr th:only-of-type {\n",
       "        vertical-align: middle;\n",
       "    }\n",
       "\n",
       "    .dataframe tbody tr th {\n",
       "        vertical-align: top;\n",
       "    }\n",
       "\n",
       "    .dataframe thead th {\n",
       "        text-align: right;\n",
       "    }\n",
       "</style>\n",
       "<table border=\"1\" class=\"dataframe\">\n",
       "  <thead>\n",
       "    <tr style=\"text-align: right;\">\n",
       "      <th>2</th>\n",
       "      <th>Facility Name</th>\n",
       "      <th>Industry Type (sectors)</th>\n",
       "      <th>Total reported direct emissions</th>\n",
       "      <th>stdCo2</th>\n",
       "      <th>PercentCo2</th>\n",
       "    </tr>\n",
       "  </thead>\n",
       "  <tbody>\n",
       "    <tr>\n",
       "      <th>5789</th>\n",
       "      <td>Tesla, Inc.</td>\n",
       "      <td>Other</td>\n",
       "      <td>28075.544</td>\n",
       "      <td>-0.676682</td>\n",
       "      <td>-0.518096</td>\n",
       "    </tr>\n",
       "  </tbody>\n",
       "</table>\n",
       "</div>"
      ],
      "text/plain": [
       "2    Facility Name Industry Type (sectors)  Total reported direct emissions  \\\n",
       "5789   Tesla, Inc.                   Other                        28075.544   \n",
       "\n",
       "2       stdCo2  PercentCo2  \n",
       "5789 -0.676682   -0.518096  "
      ]
     },
     "execution_count": 135,
     "metadata": {},
     "output_type": "execute_result"
    }
   ],
   "source": [
    "df2[df2[\"Facility Name\"]==\"Tesla, Inc.\"]"
   ]
  },
  {
   "cell_type": "code",
   "execution_count": 138,
   "metadata": {},
   "outputs": [
    {
     "data": {
      "text/html": [
       "<div>\n",
       "<style scoped>\n",
       "    .dataframe tbody tr th:only-of-type {\n",
       "        vertical-align: middle;\n",
       "    }\n",
       "\n",
       "    .dataframe tbody tr th {\n",
       "        vertical-align: top;\n",
       "    }\n",
       "\n",
       "    .dataframe thead th {\n",
       "        text-align: right;\n",
       "    }\n",
       "</style>\n",
       "<table border=\"1\" class=\"dataframe\">\n",
       "  <thead>\n",
       "    <tr style=\"text-align: right;\">\n",
       "      <th>2</th>\n",
       "      <th>Facility Name</th>\n",
       "      <th>Industry Type (sectors)</th>\n",
       "      <th>Total reported direct emissions</th>\n",
       "      <th>stdCo2</th>\n",
       "      <th>PercentCo2</th>\n",
       "    </tr>\n",
       "  </thead>\n",
       "  <tbody>\n",
       "    <tr>\n",
       "      <th>5789</th>\n",
       "      <td>Tesla, Inc.</td>\n",
       "      <td>Other</td>\n",
       "      <td>28075.544</td>\n",
       "      <td>-0.676682</td>\n",
       "      <td>-0.518096</td>\n",
       "    </tr>\n",
       "  </tbody>\n",
       "</table>\n",
       "</div>"
      ],
      "text/plain": [
       "2    Facility Name Industry Type (sectors)  Total reported direct emissions  \\\n",
       "5789   Tesla, Inc.                   Other                        28075.544   \n",
       "\n",
       "2       stdCo2  PercentCo2  \n",
       "5789 -0.676682   -0.518096  "
      ]
     },
     "execution_count": 138,
     "metadata": {},
     "output_type": "execute_result"
    }
   ],
   "source": [
    "df2[df2[\"Facility Name\"] == \"Tesla, Inc.\"]"
   ]
  },
  {
   "cell_type": "code",
   "execution_count": 139,
   "metadata": {},
   "outputs": [
    {
     "data": {
      "text/html": [
       "<div>\n",
       "<style scoped>\n",
       "    .dataframe tbody tr th:only-of-type {\n",
       "        vertical-align: middle;\n",
       "    }\n",
       "\n",
       "    .dataframe tbody tr th {\n",
       "        vertical-align: top;\n",
       "    }\n",
       "\n",
       "    .dataframe thead th {\n",
       "        text-align: right;\n",
       "    }\n",
       "</style>\n",
       "<table border=\"1\" class=\"dataframe\">\n",
       "  <thead>\n",
       "    <tr style=\"text-align: right;\">\n",
       "      <th>2</th>\n",
       "      <th>Facility Name</th>\n",
       "      <th>Industry Type (sectors)</th>\n",
       "      <th>Total reported direct emissions</th>\n",
       "      <th>stdCo2</th>\n",
       "      <th>PercentCo2</th>\n",
       "    </tr>\n",
       "  </thead>\n",
       "  <tbody>\n",
       "    <tr>\n",
       "      <th>3609</th>\n",
       "      <td>MERCEDES-BENZ US INTERNATIONAL INC</td>\n",
       "      <td>Other</td>\n",
       "      <td>40970.296</td>\n",
       "      <td>-0.387601</td>\n",
       "      <td>-0.296763</td>\n",
       "    </tr>\n",
       "  </tbody>\n",
       "</table>\n",
       "</div>"
      ],
      "text/plain": [
       "2                          Facility Name Industry Type (sectors)  \\\n",
       "3609  MERCEDES-BENZ US INTERNATIONAL INC                   Other   \n",
       "\n",
       "2     Total reported direct emissions    stdCo2  PercentCo2  \n",
       "3609                        40970.296 -0.387601   -0.296763  "
      ]
     },
     "execution_count": 139,
     "metadata": {},
     "output_type": "execute_result"
    }
   ],
   "source": [
    "df2[df2[\"Facility Name\"] == \"MERCEDES-BENZ US INTERNATIONAL INC\"]"
   ]
  },
  {
   "cell_type": "code",
   "execution_count": 140,
   "metadata": {},
   "outputs": [
    {
     "data": {
      "text/html": [
       "<div>\n",
       "<style scoped>\n",
       "    .dataframe tbody tr th:only-of-type {\n",
       "        vertical-align: middle;\n",
       "    }\n",
       "\n",
       "    .dataframe tbody tr th {\n",
       "        vertical-align: top;\n",
       "    }\n",
       "\n",
       "    .dataframe thead th {\n",
       "        text-align: right;\n",
       "    }\n",
       "</style>\n",
       "<table border=\"1\" class=\"dataframe\">\n",
       "  <thead>\n",
       "    <tr style=\"text-align: right;\">\n",
       "      <th>2</th>\n",
       "      <th>Facility Name</th>\n",
       "      <th>Industry Type (sectors)</th>\n",
       "      <th>Total reported direct emissions</th>\n",
       "      <th>stdCo2</th>\n",
       "      <th>PercentCo2</th>\n",
       "    </tr>\n",
       "  </thead>\n",
       "  <tbody>\n",
       "    <tr>\n",
       "      <th>2119</th>\n",
       "      <td>FORD MOTOR COMPANY - FORD KENTUCKY TRUCK PLANT</td>\n",
       "      <td>Other</td>\n",
       "      <td>74118.92</td>\n",
       "      <td>0.355542</td>\n",
       "      <td>0.272218</td>\n",
       "    </tr>\n",
       "  </tbody>\n",
       "</table>\n",
       "</div>"
      ],
      "text/plain": [
       "2                                      Facility Name Industry Type (sectors)  \\\n",
       "2119  FORD MOTOR COMPANY - FORD KENTUCKY TRUCK PLANT                   Other   \n",
       "\n",
       "2     Total reported direct emissions    stdCo2  PercentCo2  \n",
       "2119                         74118.92  0.355542    0.272218  "
      ]
     },
     "execution_count": 140,
     "metadata": {},
     "output_type": "execute_result"
    }
   ],
   "source": [
    "df2[df2[\"Facility Name\"] == \"FORD MOTOR COMPANY - FORD KENTUCKY TRUCK PLANT\"]"
   ]
  },
  {
   "cell_type": "code",
   "execution_count": 141,
   "metadata": {},
   "outputs": [
    {
     "data": {
      "text/html": [
       "<div>\n",
       "<style scoped>\n",
       "    .dataframe tbody tr th:only-of-type {\n",
       "        vertical-align: middle;\n",
       "    }\n",
       "\n",
       "    .dataframe tbody tr th {\n",
       "        vertical-align: top;\n",
       "    }\n",
       "\n",
       "    .dataframe thead th {\n",
       "        text-align: right;\n",
       "    }\n",
       "</style>\n",
       "<table border=\"1\" class=\"dataframe\">\n",
       "  <thead>\n",
       "    <tr style=\"text-align: right;\">\n",
       "      <th>2</th>\n",
       "      <th>Facility Name</th>\n",
       "      <th>Industry Type (sectors)</th>\n",
       "      <th>Total reported direct emissions</th>\n",
       "      <th>stdCo2</th>\n",
       "      <th>PercentCo2</th>\n",
       "    </tr>\n",
       "  </thead>\n",
       "  <tbody>\n",
       "    <tr>\n",
       "      <th>2272</th>\n",
       "      <td>GENERAL ELECTRIC PEEBLES TEST OPERATIONS</td>\n",
       "      <td>Other</td>\n",
       "      <td>42004.754</td>\n",
       "      <td>-0.36441</td>\n",
       "      <td>-0.279007</td>\n",
       "    </tr>\n",
       "  </tbody>\n",
       "</table>\n",
       "</div>"
      ],
      "text/plain": [
       "2                                Facility Name Industry Type (sectors)  \\\n",
       "2272  GENERAL ELECTRIC PEEBLES TEST OPERATIONS                   Other   \n",
       "\n",
       "2     Total reported direct emissions   stdCo2  PercentCo2  \n",
       "2272                        42004.754 -0.36441   -0.279007  "
      ]
     },
     "execution_count": 141,
     "metadata": {},
     "output_type": "execute_result"
    }
   ],
   "source": [
    "df2[df2[\"Facility Name\"] == \"GENERAL ELECTRIC PEEBLES TEST OPERATIONS\"]"
   ]
  },
  {
   "cell_type": "code",
   "execution_count": null,
   "metadata": {},
   "outputs": [],
   "source": [
    "Tesla = -0.518096\n",
    "Ford = 0.272218\n",
    "General_Electric = -0.279007\n",
    "\n",
    "Mercedes = -0.296763"
   ]
  }
 ],
 "metadata": {
  "interpreter": {
   "hash": "aee8b7b246df8f9039afb4144a1f6fd8d2ca17a180786b69acc140d282b71a49"
  },
  "kernelspec": {
   "display_name": "Python 3.9.0 64-bit",
   "language": "python",
   "name": "python3"
  },
  "language_info": {
   "codemirror_mode": {
    "name": "ipython",
    "version": 3
   },
   "file_extension": ".py",
   "mimetype": "text/x-python",
   "name": "python",
   "nbconvert_exporter": "python",
   "pygments_lexer": "ipython3",
   "version": "3.9.0"
  },
  "orig_nbformat": 4
 },
 "nbformat": 4,
 "nbformat_minor": 2
}
