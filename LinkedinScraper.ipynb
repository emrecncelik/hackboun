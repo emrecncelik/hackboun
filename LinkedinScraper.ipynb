{
 "cells": [
  {
   "cell_type": "code",
   "execution_count": 1,
   "metadata": {},
   "outputs": [],
   "source": [
    "import urllib.request"
   ]
  },
  {
   "cell_type": "code",
   "execution_count": 2,
   "metadata": {},
   "outputs": [],
   "source": [
    "def downloadImage(url, filePath, fileName):# url: image in urlsi | filePath: yükleyeceğimiz path | fileName: hangi adla kaydedilecek\n",
    "    full_path = filePath+fileName+\".jpg\"\n",
    "    urllib.request.urlretrieve(url, full_path) "
   ]
  },
  {
   "cell_type": "code",
   "execution_count": 16,
   "metadata": {
    "scrolled": true
   },
   "outputs": [],
   "source": [
    "companies = {\"abbott\":\"https://www.linkedin.com/search/results/people/?currentCompany=%5B%221612%22%5D&origin=FACETED_SEARCH\",\"elililly\":\"https://www.linkedin.com/search/results/people/?currentCompany=%5B%221663%22%5D&origin=FACETED_SEARCH\",\"bristol\":\"https://www.linkedin.com/search/results/people/?currentCompany=%5B%221773%22%5D&origin=FACETED_SEARCH\",\"intuitive\":\"https://www.linkedin.com/search/results/people/?currentCompany=%5B%2211835857%22%5D&origin=FACETED_SEARCH\",\"cigna\":\"https://www.linkedin.com/search/results/people/?currentCompany=%5B%222490%22%5D&origin=FACETED_SEARCH\",\"hca\":\"https://www.linkedin.com/search/results/people/?currentCompany=%5B%222490%22%5D&origin=FACETED_SEARCH\",\"agilent\":\"https://www.linkedin.com/search/results/people/?currentCompany=%5B%221526%22%5D&origin=FACETED_SEARCH\",\"alexion\":\"https://www.linkedin.com/search/results/people/?currentCompany=%5B%2216750%22%5D&origin=FACETED_SEARCH\",\"cerner\":\"https://www.linkedin.com/search/results/people/?currentCompany=%5B%222812%22%5D&origin=FACETED_SEARCH\",\"viatris\":\"https://www.linkedin.com/search/results/people/?currentCompany=%5B%2252143761%22%5D&origin=FACETED_SEARCH\",\n",
    "             \"pepsico\":\"https://www.linkedin.com/search/results/people/?currentCompany=%5B%221431%22%5D&origin=FACETED_SEARCH\",\"costco\":\"https://www.linkedin.com/search/results/people/?currentCompany=%5B%22163225%22%5D&origin=FACETED_SEARCH\",\"mondelez\":\"https://www.linkedin.com/search/results/people/?currentCompany=%5B%221511%22%5D&origin=FACETED_SEARCH\",\"colgate\":\"https://www.linkedin.com/search/results/people/?currentCompany=%5B%222748%22%5D&origin=FACETED_SEARCH\",\"walgreens\":\"https://www.linkedin.com/search/results/people/?currentCompany=%5B%225068%22%5D&origin=FACETED_SEARCH\",\"Hershey\":\"https://www.linkedin.com/search/results/people/?currentCompany=%5B%22166377%22%5D&origin=FACETED_SEARCH\",\"archer\":\"https://www.linkedin.com/search/results/people/?currentCompany=%5B%225553%22%5D&origin=FACETED_SEARCH\",\"hormel\":\"https://www.linkedin.com/search/results/people/?currentCompany=%5B%2211618%22%5D&origin=FACETED_SEARCH\",\"church\":\"https://www.linkedin.com/search/results/people/?currentCompany=%5B%228105%22%5D&origin=FACETED_SEARCH\",\"conagra\":\"https://www.linkedin.com/search/results/people/?currentCompany=%5B%223493%22%5D&origin=FACETED_SEARCH\",\n",
    "            \"visa\":\"https://www.linkedin.com/search/results/people/?currentCompany=%5B%222190%22%5D&origin=FACETED_SEARCH\",\"oracle\":\"https://www.linkedin.com/search/results/people/?currentCompany=%5B%221028%22%5D&origin=FACETED_SEARCH\",\"texas\":\"https://www.linkedin.com/search/results/people/?currentCompany=%5B%221397%22%5D&origin=FACETED_SEARCH\",\"lam\":\"https://www.linkedin.com/search/results/people/?currentCompany=%5B%225107%22%5D&origin=FACETED_SEARCH\",\"global\":\"https://www.linkedin.com/search/results/people/?currentCompany=%5B%22164006%22%5D&origin=FACETED_SEARCH\",\"teconnect\":\"https://www.linkedin.com/search/results/people/?currentCompany=%5B%222059%22%5D&origin=FACETED_SEARCH\",\"corning\":\"https://www.linkedin.com/search/results/people/?currentCompany=%5B%223678%22%5D&origin=FACETED_SEARCH\",\"ansts\":\"https://www.linkedin.com/search/results/people/?currentCompany=%5B%226536%22%5D&origin=FACETED_SEARCH\",\"qorvo\":\"https://www.linkedin.com/search/results/people/?currentCompany=%5B%22166502%22%5D&origin=FACETED_SEARCH\",\"trimble\":\"https://www.linkedin.com/search/results/people/?currentCompany=%5B%225160%22%5D&origin=FACETED_SEARCH\",\"ipgphoto\":\"https://www.linkedin.com/search/results/people/?currentCompany=%5B%226370%22%5D&origin=FACETED_SEARCH\",\n",
    "            \"google\":\"https://www.linkedin.com/search/results/people/?currentCompany=%5B%221441%22%5D&origin=FACETED_SEARCH\",\"comcast\":\"https://www.linkedin.com/search/results/people/?currentCompany=%5B%221703%22%5D&origin=FACETED_SEARCH\",\"verizon\":\"https://www.linkedin.com/search/results/people/?currentCompany=%5B%221103%22%5D&origin=FACETED_SEARCH\",\"netflix\":\"https://www.linkedin.com/search/results/people/?currentCompany=%5B%22165158%22%5D&origin=FACETED_SEARCH\",\"charter\":\"https://www.linkedin.com/search/results/people/?currentCompany=%5B%224561%22%5D&origin=FACETED_SEARCH\",\"viacom\":\"https://www.linkedin.com/search/results/people/?currentCompany=%5B%221884%22%5D&origin=FACETED_SEARCH\",\"fox\":\"https://www.linkedin.com/search/results/people/?currentCompany=%5B%225930%22%5D&origin=FACETED_SEARCH\",\"ommicom\":\"https://www.linkedin.com/search/results/people/?currentCompany=%5B%221028487%22%5D&origin=FACETED_SEARCH\",\"discovery\":\"https://www.linkedin.com/search/results/people/?currentCompany=%5B%222928%22%5D&origin=FACETED_SEARCH\",\"interpub\":\"https://www.linkedin.com/search/results/people/?currentCompany=%5B%226370%22%5D&origin=FACETED_SEARCH\",\n",
    "            #\"jpmorgan\":\"https://www.linkedin.com/search/results/people/?currentCompany=%5B%221068%22%5D&origin=FACETED_SEARCH\",\"blackrock\":\"https://www.linkedin.com/search/results/people/?currentCompany=%5B%224764%22%5D&origin=FACETED_SEARCH\",\"truist\":\"https://www.linkedin.com/search/results/people/?currentCompany=%5B%2214840050%22%5D&origin=FACETED_SEARCH\",\"marsh\":\"https://www.linkedin.com/search/results/people/?currentCompany=%5B%221096648%22%5D&origin=FACETED_SEARCH\",\"aon\":\"https://www.linkedin.com/search/results/people/?currentCompany=%5B%222041%22%5D&origin=FACETED_SEARCH\",\"prudential\":\"https://www.linkedin.com/search/results/people/?currentCompany=%5B%221852%22%5D&origin=FACETED_SEARCH\",\"ameriprise\":\"https://www.linkedin.com/search/results/people/?currentCompany=%5B%223032%22%5D&origin=FACETED_SEARCH\",\"statest\":\"https://www.linkedin.com/search/results/people/?currentCompany=%5B%221767%22%5D&origin=FACETED_SEARCH\",\"raymond\":\"https://www.linkedin.com/search/results/people/?currentCompany=%5B%224207%22%5D&origin=FACETED_SEARCH\",\"assurant\":\"https://www.linkedin.com/search/results/people/?currentCompany=%5B%224394%22%5D&origin=FACETED_SEARCH\",\"zions\":\"https://www.linkedin.com/search/results/people/?currentCompany=%5B%226184%22%5D&origin=FACETED_SEARCH\",\n",
    "            \"Schlumberger\":\"https://www.linkedin.com/search/results/people/?currentCompany=%5B%221468%22%5D&keywords=schlumberger%20nv&origin=FACETED_SEARCH\",\"Hesscorp\":\"https://www.linkedin.com/search/results/people/?currentCompany=%5B%225458%22%5D&keywords=hess%20corp&origin=FACETED_SEARCH\",\"HollyFrontier\":\"https://www.linkedin.com/search/results/people/?currentCompany=%5B%222269877%22%5D&keywords=holly%20frontier&origin=FACETED_SEARCH\",\"OccidentalPetroleum\":\"https://www.linkedin.com/search/results/people/?currentCompany=%5B%22165370%22%5D&keywords=occidental%20petroleum&origin=FACETED_SEARCH\",\"HalliburtonCo\":\"https://www.linkedin.com/search/results/people/?currentCompany=%5B%222217%22%5D&keywords=halliburton&origin=FACETED_SEARCH\",\"NovInc\":\"https://www.linkedin.com/search/results/people/?currentCompany=%5B%22165109%22%5D&keywords=nov&origin=FACETED_SEARCH\",\"exxon\":\"https://www.linkedin.com/search/results/people/?currentCompany=%5B%221689%22%5D&keywords=exxonmobil&origin=FACETED_SEARCH\",\"conocophilips\":\"https://www.linkedin.com/search/results/people/?currentCompany=%5B%223600%22%5D&keywords=conoco%20phillips&origin=FACETED_SEARCH\",\"cabot\":\"https://www.linkedin.com/search/results/people/?currentCompany=%5B%225970%22%5D&keywords=cabot%20corporation&origin=FACETED_SEARCH\",\n",
    "            \"Westrockcorp\":\"https://www.linkedin.com/search/results/people/?currentCompany=%5B%2210035810%22%5D&keywords=westrock&origin=FACETED_SEARCH\",\"Lyondellbasell\":\"https://www.linkedin.com/search/results/people/?currentCompany=%5B%225667%22%5D&keywords=lyondellbasell&origin=FACETED_SEARCH\",\"Ecolab\":\"https://www.linkedin.com/search/results/people/?currentCompany=%5B%224713%22%5D&keywords=ecolab&origin=FACETED_SEARCH\",\"Averydennission\":\"https://www.linkedin.com/search/results/people/?currentCompany=%5B%223321%22%5D&keywords=avery%20dennison%20corporation&origin=FACETED_SEARCH\",\"Vulcanmaterials\":\"https://www.linkedin.com/search/results/people/?currentCompany=%5B%2210737%22%5D&keywords=vulcan%20materials%20company&origin=FACETED_SEARCH\",\"Packagincorp\":\"https://www.linkedin.com/search/results/people/?currentCompany=%5B%22165416%22%5D&keywords=packaging%20corporation%20of%20america&origin=FACETED_SEARCH\",\"Ballcorp\":\"https://www.linkedin.com/search/results/people/?currentCompany=%5B%225724%22%5D&keywords=ball%20corporation&origin=FACETED_SEARCH\",\"PPGindustries\":\"https://www.linkedin.com/search/results/people/?currentCompany=%5B%224857%22%5D&keywords=ppg%20industries%20inc&origin=FACETED_SEARCH\",\"Dowinc\":\"https://www.linkedin.com/search/results/people/?currentCompany=%5B%222562%22%5D&keywords=dow%20inc&origin=FACETED_SEARCH\",\"Intflavors\":\"https://www.linkedin.com/search/results/people/?currentCompany=%5B%225870%22%5D&keywords=international%20flavors%20fragrances&origin=FACETED_SEARCH\",\n",
    "            \"Firstenergy\":\"https://www.linkedin.com/search/results/people/?currentCompany=%5B%225178680%22%5D&keywords=first%20energy%20corporation&origin=FACETED_SEARCH\",\"Centerpoint\":\"https://www.linkedin.com/search/results/people/?currentCompany=%5B%22162961%22%5D&keywords=center%20point%20energy&origin=FACETED_SEARCH\",\"Dukeenergy\":\"https://www.linkedin.com/search/results/people/?currentCompany=%5B%224066%22%5D&keywords=duke%20energy&origin=FACETED_SEARCH\",\"Americanelectricpower\":\"https://www.linkedin.com/search/results/people/?currentCompany=%5B%22162419%22%5D&keywords=american%20electric%20power&origin=FACETED_SEARCH\",\"Eversource\":\"https://www.linkedin.com/search/results/all/?keywords=eversource%20energy&origin=AUTO_COMPLETE\",\"CMSenergy\":\"https://www.linkedin.com/search/results/people/?currentCompany=%5B%229847%22%5D&keywords=cms%20energy&origin=FACETED_SEARCH\",\"Edisoninternational\":\"https://www.linkedin.com/search/results/people/?currentCompany=%5B%22157358%22%5D&keywords=edison%20international&origin=FACETED_SEARCH\",\"Exeoncorp\":\"https://www.linkedin.com/search/results/people/?currentCompany=%5B%224674%22%5D&keywords=exelon%20corporation&origin=FACETED_SEARCH\",\"NRGenergy\":\"https://www.linkedin.com/search/results/people/?currentCompany=%5B%227136%22%5D&keywords=nrg%20energy&origin=FACETED_SEARCH\",\"ConsolidatedEdision\":\"https://www.linkedin.com/search/results/people/?currentCompany=%5B%229739083%22%5D&keywords=consolidated%20edison%20inc&origin=FACETED_SEARCH\",\n",
    "            \"HomeDepot\":\"https://www.linkedin.com/search/results/people/?currentCompany=%5B%221534%22%5D&keywords=home%20depot&origin=FACETED_SEARCH\",\"BestBuyco\":\"https://www.linkedin.com/search/results/people/?currentCompany=%5B%222127%22%5D&keywords=best%20buy%20co&origin=FACETED_SEARCH\",\"Lowescomp\":\"https://www.linkedin.com/search/results/people/?currentCompany=%5B%224128%22%5D&keywords=lowes%20company&origin=FACETED_SEARCH\",\"Hanesbrand\":\"https://www.linkedin.com/search/results/people/?currentCompany=%5B%222230%22%2C%229661164%22%5D&keywords=hanesbrands%20inc&origin=FACETED_SEARCH\",\"Autozone\":\"https://www.linkedin.com/search/results/people/?currentCompany=%5B%227412%22%5D&keywords=autozone&origin=FACETED_SEARCH\",\"Pennnational\":\"https://www.linkedin.com/search/results/people/?currentCompany=%5B%2213099%22%5D&keywords=penn%20national%20gaming&origin=FACETED_SEARCH\",\"Aptivplc\":\"https://www.linkedin.com/search/results/people/?currentCompany=%5B%2211273203%22%5D&keywords=aptiv%20plc&origin=FACETED_SEARCH\",\"ETSY\":\"https://www.linkedin.com/search/results/people/?currentCompany=%5B%2267849%22%5D&keywords=etsy&origin=FACETED_SEARCH\",\"Ralphlaurent\":\"https://www.linkedin.com/search/results/people/?currentCompany=%5B%224688%22%5D&keywords=ralph%20lauren%20corporation&origin=FACETED_SEARCH\",\n",
    "            \"Dukereality\":\"https://www.linkedin.com/search/results/people/?currentCompany=%5B%2215899%22%5D&keywords=duke%20realty%20corporation&origin=FACETED_SEARCH\",\"Ironmountain\":\"https://www.linkedin.com/search/results/people/?currentCompany=%5B%223780%22%5D&keywords=iron%20mountain&origin=FACETED_SEARCH\",\"Ventasinc\":\"https://www.linkedin.com/search/results/people/?currentCompany=%5B%2257449%22%5D&keywords=ventas%20inc&origin=FACETED_SEARCH\",\"Hosthotels\":\"https://www.linkedin.com/search/results/people/?currentCompany=%5B%2236069%22%5D&keywords=host%20hotels%20resorts&origin=FACETED_SEARCH\",\"Healthpeak\":\"https://www.linkedin.com/search/results/people/?currentCompany=%5B%2251612056%22%5D&keywords=healthpeak%20property&origin=FACETED_SEARCH\",\"crowncastle\":\"https://www.linkedin.com/search/results/people/?currentCompany=%5B%221557409%22%5D&keywords=crown%20castle&origin=FACETED_SEARCH\",\"Equityresidental\":\"https://www.linkedin.com/search/results/people/?currentCompany=%5B%22163667%22%5D&keywords=equity%20residential&origin=FACETED_SEARCH\",\"Americantower\":\"https://www.linkedin.com/search/results/people/?currentCompany=%5B%228100%22%5D&keywords=american%20tower%20corporation&origin=FACETED_SEARCH\",\"prologis\":\"https://www.linkedin.com/search/results/people/?currentCompany=%5B%228794%22%5D&keywords=prologis&origin=FACETED_SEARCH\",\"Weyerhaeuser\":\"https://www.linkedin.com/search/results/people/?currentCompany=%5B%224494%22%5D&keywords=weyerhaeuser%20company&origin=FACETED_SEARCH\",\n",
    "            \"Lockheedmartin\":\"https://www.linkedin.com/search/results/people/?currentCompany=%5B%221319%22%5D&keywords=lockheed%20martin&origin=FACETED_SEARCH\",\"Cummins\":\"https://www.linkedin.com/search/results/people/?keywords=cummins%20inc.&origin=SUGGESTION\",\"Teledynetech\":\"https://www.linkedin.com/search/results/people/?currentCompany=%5B%221001%22%5D&keywords=teledyne%20technologies&origin=FACETED_SEARCH\",\"wastemanagement\":\"https://www.linkedin.com/search/results/people/?currentCompany=%5B%22204770%22%5D&keywords=waste%20management&origin=FACETED_SEARCH\",\"republicservices\":\"https://www.linkedin.com/search/results/people/?currentCompany=%5B%22315817%22%5D&keywords=republic%20services&origin=FACETED_SEARCH\",\"textroninc\":\"https://www.linkedin.com/search/results/people/?currentCompany=%5B%22315817%22%5D&keywords=republic%20services&origin=FACETED_SEARCH\",\"norfolksouthern\":\"https://www.linkedin.com/search/results/people/?currentCompany=%5B%226592%22%5D&keywords=norfolk%20southern&origin=FACETED_SEARCH\",\"generaldynamics\":\"https://www.linkedin.com/search/results/people/?currentCompany=%5B%221904%22%5D&keywords=general%20dynamics&origin=FACETED_SEARCH\",\"Americanairliens\":\"https://www.linkedin.com/search/results/people/?currentCompany=%5B%222640%22%5D&keywords=amrican%20airlines%20aviation&origin=FACETED_SEARCH\",\"rollins\":\"https://www.linkedin.com/search/results/people/?currentCompany=%5B%228145%22%5D&keywords=rollins%2C%20inc.&origin=FACETED_SEARCH\"\n",
    "            }\n",
    "# "
   ]
  },
  {
   "cell_type": "code",
   "execution_count": 17,
   "metadata": {},
   "outputs": [],
   "source": [
    "comps = list(companies.keys())"
   ]
  },
  {
   "cell_type": "code",
   "execution_count": 18,
   "metadata": {},
   "outputs": [
    {
     "data": {
      "text/plain": [
       "['abbott',\n",
       " 'elililly',\n",
       " 'bristol',\n",
       " 'intuitive',\n",
       " 'cigna',\n",
       " 'hca',\n",
       " 'agilent',\n",
       " 'alexion',\n",
       " 'cerner',\n",
       " 'viatris',\n",
       " 'pepsico',\n",
       " 'costco',\n",
       " 'mondelez',\n",
       " 'colgate',\n",
       " 'walgreens',\n",
       " 'Hershey',\n",
       " 'archer',\n",
       " 'hormel',\n",
       " 'church',\n",
       " 'conagra',\n",
       " 'visa',\n",
       " 'oracle',\n",
       " 'texas',\n",
       " 'lam',\n",
       " 'global',\n",
       " 'teconnect',\n",
       " 'corning',\n",
       " 'ansts',\n",
       " 'qorvo',\n",
       " 'trimble',\n",
       " 'ipgphoto',\n",
       " 'google',\n",
       " 'comcast',\n",
       " 'verizon',\n",
       " 'netflix',\n",
       " 'charter',\n",
       " 'viacom',\n",
       " 'fox',\n",
       " 'ommicom',\n",
       " 'discovery',\n",
       " 'interpub',\n",
       " 'Schlumberger',\n",
       " 'Hesscorp',\n",
       " 'HollyFrontier',\n",
       " 'OccidentalPetroleum',\n",
       " 'HalliburtonCo',\n",
       " 'NovInc',\n",
       " 'exxon',\n",
       " 'conocophilips',\n",
       " 'cabot',\n",
       " 'Westrockcorp',\n",
       " 'Lyondellbasell',\n",
       " 'Ecolab',\n",
       " 'Averydennission',\n",
       " 'Vulcanmaterials',\n",
       " 'Packagincorp',\n",
       " 'Ballcorp',\n",
       " 'PPGindustries',\n",
       " 'Dowinc',\n",
       " 'Intflavors',\n",
       " 'Firstenergy',\n",
       " 'Centerpoint',\n",
       " 'Dukeenergy',\n",
       " 'Americanelectricpower',\n",
       " 'Eversource',\n",
       " 'CMSenergy',\n",
       " 'Edisoninternational',\n",
       " 'Exeoncorp',\n",
       " 'NRGenergy',\n",
       " 'ConsolidatedEdision',\n",
       " 'HomeDepot',\n",
       " 'BestBuyco',\n",
       " 'Lowescomp',\n",
       " 'Hanesbrand',\n",
       " 'Autozone',\n",
       " 'Pennnational',\n",
       " 'Aptivplc',\n",
       " 'ETSY',\n",
       " 'Ralphlaurent',\n",
       " 'Dukereality',\n",
       " 'Ironmountain',\n",
       " 'Ventasinc',\n",
       " 'Hosthotels',\n",
       " 'Healthpeak',\n",
       " 'crowncastle',\n",
       " 'Equityresidental',\n",
       " 'Americantower',\n",
       " 'prologis',\n",
       " 'Weyerhaeuser',\n",
       " 'Lockheedmartin',\n",
       " 'Cummins',\n",
       " 'Teledynetech',\n",
       " 'wastemanagement',\n",
       " 'republicservices',\n",
       " 'textroninc',\n",
       " 'norfolksouthern',\n",
       " 'generaldynamics',\n",
       " 'Americanairliens',\n",
       " 'rollins']"
      ]
     },
     "execution_count": 18,
     "metadata": {},
     "output_type": "execute_result"
    }
   ],
   "source": [
    "comps"
   ]
  },
  {
   "cell_type": "code",
   "execution_count": 19,
   "metadata": {},
   "outputs": [],
   "source": [
    "links = list(companies.values())"
   ]
  },
  {
   "cell_type": "code",
   "execution_count": 20,
   "metadata": {},
   "outputs": [
    {
     "data": {
      "text/plain": [
       "99"
      ]
     },
     "execution_count": 20,
     "metadata": {},
     "output_type": "execute_result"
    }
   ],
   "source": [
    "comps\n",
    "len(comps)"
   ]
  },
  {
   "cell_type": "code",
   "execution_count": 8,
   "metadata": {},
   "outputs": [
    {
     "data": {
      "text/plain": [
       "\"import os\\n#while eval_condition():\\ni = 0\\nwhile(i<len(comps)):\\n    path = '{}'.format(comps[i])\\n    if not os.path.exists(path):\\n        os.mkdir(path)\\n    i += 1\""
      ]
     },
     "execution_count": 8,
     "metadata": {},
     "output_type": "execute_result"
    }
   ],
   "source": [
    "\"\"\"import os\n",
    "#while eval_condition():\n",
    "i = 0\n",
    "while(i<len(comps)):\n",
    "    path = '{}'.format(comps[i])\n",
    "    if not os.path.exists(path):\n",
    "        os.mkdir(path)\n",
    "    i += 1\"\"\""
   ]
  },
  {
   "cell_type": "code",
   "execution_count": 11,
   "metadata": {},
   "outputs": [],
   "source": [
    "import requests, time, random\n",
    "from bs4 import BeautifulSoup\n",
    "from selenium import webdriver\n",
    "import os, random,sys,time\n",
    "from urllib.parse import urlparse\n",
    "\n",
    "browser = webdriver.Chrome()#'LinkedinScrapt/driver/chromedriver'\n",
    "\n",
    "browser.get('https://www.linkedin.com/uas/login')\n",
    "\n",
    "file = open('config.txt')\n",
    "lines = file.readlines()\n",
    "username = lines[0]\n",
    "password = lines[1]\n",
    "\n",
    "elementID = browser.find_element_by_id('username')\n",
    "elementID.send_keys(username)\n",
    "\n",
    "elementID = browser.find_element_by_id('password')\n",
    "elementID.send_keys(password)\n",
    "time.sleep(2)\n",
    "#elementID.submit()\n"
   ]
  },
  {
   "cell_type": "code",
   "execution_count": null,
   "metadata": {},
   "outputs": [],
   "source": []
  },
  {
   "cell_type": "code",
   "execution_count": 12,
   "metadata": {},
   "outputs": [
    {
     "name": "stdout",
     "output_type": "stream",
     "text": [
      "-------------------------- abbott -----------------------------\n",
      "-------------------------- abbott -----------------------------\n",
      "-------------------------- abbott -----------------------------\n",
      "-------------------------- abbott -----------------------------\n",
      "1 https://media-exp1.licdn.com/dms/image/C4D03AQF1ZVtm2kgR0Q/profile-displayphoto-shrink_100_100/0/1516505133374?e=1625097600&v=beta&t=_FJg3YyzMh_wwOrVXq7z1oDVvtJabZLPBZFppcHSY0s\n",
      "2 https://media-exp1.licdn.com/dms/image/C5103AQGH9Hh11g2HtA/profile-displayphoto-shrink_100_100/0/1516250487476?e=1625097600&v=beta&t=spSrC8oMWdGXp4o4ijopoGwrZYakPEG2J7-oLYcqBEE\n",
      "3 https://media-exp1.licdn.com/dms/image/C4D03AQGLydoc7IYFFQ/profile-displayphoto-shrink_100_100/0/1571982729838?e=1625097600&v=beta&t=eBLKscGT_Yo29g6qzSBnBDXuxPFbc8vskowQooUnzyU\n",
      "4 https://media-exp1.licdn.com/dms/image/C5603AQFepCfyckNZBg/profile-displayphoto-shrink_100_100/0/1587883853140?e=1625097600&v=beta&t=prdhC6BwwRdE8QOu79ET4DTcQ11WCyYl9vIRkE1kTFc\n",
      "5 https://media-exp1.licdn.com/dms/image/C4E03AQGdX-SJFHIETw/profile-displayphoto-shrink_100_100/0/1593515464302?e=1625097600&v=beta&t=zeyA_50f6UMuPpYLk32IjoRsp1PopmuUY4nGM0gaEEM\n",
      "6 https://media-exp1.licdn.com/dms/image/C4D03AQHj-3SyRhqxhA/profile-displayphoto-shrink_100_100/0/1588673333335?e=1625097600&v=beta&t=ylcZhbp6xWUEEZAKM-9kfCVy7G3H-BoU61-VbBBbHDo\n",
      "7 https://media-exp1.licdn.com/dms/image/C4D03AQF7caEtcIIBvQ/profile-displayphoto-shrink_100_100/0/1517530029625?e=1625097600&v=beta&t=iLlmJ1nO6YJx23Ja5HW7tfg0Q38KxJmiewQB7ZZupC0\n",
      "8 https://media-exp1.licdn.com/dms/image/C4E03AQEll5bKUl-rAw/profile-displayphoto-shrink_100_100/0/1517258067013?e=1625097600&v=beta&t=FXV_Z6i05Cm70OL1RJOvCCy1Hs5yYBt-IZsWvaMeyG8\n",
      "9 https://media-exp1.licdn.com/dms/image/C4D03AQFGNgEBmjjrkA/profile-displayphoto-shrink_100_100/0/1602685946303?e=1625097600&v=beta&t=xVc6M7YEdQagGYAm7tcjiDd9b6IsNwTaxFNLpj8LBqE\n",
      "10 https://media-exp1.licdn.com/dms/image/C4D03AQHGRMb2-RvvdA/profile-displayphoto-shrink_100_100/0/1596805462847?e=1625097600&v=beta&t=fEfb86_-6ncZA3kdgmK0Fl4GmBXGf85yjKzIIpuFdZc\n",
      "11 https://media-exp1.licdn.com/dms/image/C4D03AQE0jYv5bRejmg/profile-displayphoto-shrink_100_100/0/1616421085089?e=1625097600&v=beta&t=BsWQVJSB9K9uYRqht7gFle5uTIOXVFv2qRmvToKQjBo\n",
      "12 https://media-exp1.licdn.com/dms/image/C4D03AQEqwaDEWR1ecQ/profile-displayphoto-shrink_100_100/0/1530047798379?e=1625097600&v=beta&t=N-xYGdcwEEs8fNCog9_iUy6qmYYdMb-P_4ewNma4TLE\n",
      "13 https://media-exp1.licdn.com/dms/image/C5103AQGMFuhKkGiCmg/profile-displayphoto-shrink_100_100/0/1517053364413?e=1625097600&v=beta&t=JtmSv1lHU1eyg5J0QaWiEGxt-iBM0z10gZYrMItdNP4\n",
      "14 https://media-exp1.licdn.com/dms/image/C5603AQGCj5Ixn3nM7w/profile-displayphoto-shrink_100_100/0/1553025035931?e=1625097600&v=beta&t=_1i4J_Gt9dZUkMJvaaMGzEhUsx3pcPEYEQxS1viGL-k\n",
      "15 https://media-exp1.licdn.com/dms/image/C4E03AQEUVo-tabBuzw/profile-displayphoto-shrink_100_100/0/1592379598367?e=1625097600&v=beta&t=NNznf9XR2J4WUlakUauEfzGEDSXQTitrSHUs1RodD7E\n",
      "16 https://media-exp1.licdn.com/dms/image/C4E03AQGs4DCDR8WDeA/profile-displayphoto-shrink_100_100/0/1550260958572?e=1625097600&v=beta&t=UGszQfuJGYrEHuGoLD5VOpYjnQh-NsJL2-wl3aFIju4\n",
      "17 https://media-exp1.licdn.com/dms/image/C4D03AQG5_EjVVikn4Q/profile-displayphoto-shrink_100_100/0/1605033738004?e=1625097600&v=beta&t=KOEGZqCTnPP2o_X0d2lNQBoVg2iYEESnWVLQAmAkWww\n",
      "18 https://media-exp1.licdn.com/dms/image/C4D03AQF97UzfVstDRg/profile-displayphoto-shrink_100_100/0/1516982097048?e=1625097600&v=beta&t=H8X1C47eljexjlnFgDmvcjmwCoApyIVgKOjozvxxoxA\n",
      "19 https://media-exp1.licdn.com/dms/image/C5103AQGWiUeEh4rnGA/profile-displayphoto-shrink_100_100/0/1516896469649?e=1625097600&v=beta&t=OJf1fWtukpG--WY1UscTGp6nVEz_tXfLW20P1DdQN60\n",
      "20 https://media-exp1.licdn.com/dms/image/C4D03AQHy6Kg9YaZiTg/profile-displayphoto-shrink_100_100/0/1600770140551?e=1625097600&v=beta&t=n2a79IN6zVQUYHTwYW2XkKXv9xHL-Ro4Je0OvDNRaVo\n",
      "21 https://media-exp1.licdn.com/dms/image/C4D03AQH2un4Od5p8Gg/profile-displayphoto-shrink_100_100/0/1579904022620?e=1625097600&v=beta&t=Lvt0Nu4uY7hMCfBLb8pQ5BHADhzx4zhyKFggMilqUCg\n",
      "22 https://media-exp1.licdn.com/dms/image/C4D03AQFP34NhTmqCuA/profile-displayphoto-shrink_100_100/0/1516999230750?e=1625097600&v=beta&t=TSY_X8qL_6pZKGky8-ewtA9i2RIZyqwCH2qJdjVTAA4\n",
      "-------------------------- elililly -----------------------------\n",
      "-------------------------- elililly -----------------------------\n",
      "-------------------------- elililly -----------------------------\n",
      "-------------------------- elililly -----------------------------\n",
      "1 https://media-exp1.licdn.com/dms/image/C4D03AQF7pPiK0P4LJg/profile-displayphoto-shrink_100_100/0/1516885323924?e=1625097600&v=beta&t=BypgNbYZlqRa6OewkOeiMjH2Ta8XCNMW3c0zu49kJSA\n",
      "2 https://media-exp1.licdn.com/dms/image/C4E03AQGreFARLVwBag/profile-displayphoto-shrink_100_100/0/1605267899586?e=1625097600&v=beta&t=ooIp52oMF7NiAeyh5DR42x1wrnyf-0TL1OswoKGG3ZY\n",
      "3 https://media-exp1.licdn.com/dms/image/C5603AQGvNr4wQvCtRA/profile-displayphoto-shrink_100_100/0/1517277716263?e=1625097600&v=beta&t=3Exnxe2a207rd8w5YXaiRqK15KLG30ZbuBqBKAzfV_o\n",
      "4 https://media-exp1.licdn.com/dms/image/C4D03AQEviDs1MXnS7g/profile-displayphoto-shrink_100_100/0/1581444392540?e=1625097600&v=beta&t=D_SNDYW9ABQn4kr8pfQOeMs1hU9Tc3YnaqJVA1gf2nA\n",
      "5 https://media-exp1.licdn.com/dms/image/C5603AQGIr1rg_qp3ng/profile-displayphoto-shrink_100_100/0/1516771023116?e=1625097600&v=beta&t=TTIgroBGyu0rj5h-NVjnAWfrF_gXz4K48_NhDnwy_h8\n",
      "6 https://media-exp1.licdn.com/dms/image/C4D03AQEVrsXvctlvMQ/profile-displayphoto-shrink_100_100/0/1516275714789?e=1625097600&v=beta&t=CkVWvHlgwFDcOwAI4DTuAU4IqvEiE0Lg8AEBCNbz95U\n",
      "7 https://media-exp1.licdn.com/dms/image/C5603AQFkhjqcLwascA/profile-displayphoto-shrink_100_100/0/1516306721262?e=1625097600&v=beta&t=xH80JbCTjuqPhN6CRa2c3xKf3_N9N5VFlbpkvCbPpZ4\n",
      "8 https://media-exp1.licdn.com/dms/image/C4D03AQFqyDq8q_wPVg/profile-displayphoto-shrink_100_100/0/1546353938096?e=1625097600&v=beta&t=g5fPgcXU01_8xV-8nkY71Teq1tbAyFPwKO5a1V-yNbI\n",
      "9 https://media-exp1.licdn.com/dms/image/C5603AQGsOHDmVTgtQQ/profile-displayphoto-shrink_100_100/0/1593283562303?e=1625097600&v=beta&t=cg3ZRYHXUgYTCqu8EtTnF-qKYYcOZQZQClyX8A-k8oY\n",
      "10 https://media-exp1.licdn.com/dms/image/C4E03AQHmbhogf-wk8g/profile-displayphoto-shrink_100_100/0/1517748733799?e=1625097600&v=beta&t=C9ho9l3aSgZfGZriA5UTSEzLmhxuZ7NXcFyEdGNndec\n",
      "11 https://media-exp1.licdn.com/dms/image/C4D03AQGuJFYhZDm1mA/profile-displayphoto-shrink_100_100/0/1618258697395?e=1625097600&v=beta&t=3rayhJHhx3WmSuv0TD01MyzlTZXOs4h82MOz1uFBopg\n",
      "12 https://media-exp1.licdn.com/dms/image/C4D03AQF0Q4T2Bk2exg/profile-displayphoto-shrink_100_100/0/1619513622969?e=1625097600&v=beta&t=UdP5Rlekjn00EoFqcH_2-9hACHSWSXAd8r2OeL_7tU8\n",
      "13 https://media-exp1.licdn.com/dms/image/C4D03AQFEOcS9HsuWKA/profile-displayphoto-shrink_100_100/0/1590428682900?e=1625097600&v=beta&t=ooE4K3uTWUdRaRsp4sYHFwWBcpZ76_Ed_3RXzrnlajY\n",
      "14 https://media-exp1.licdn.com/dms/image/C4E03AQGsWD0i1jvgyg/profile-displayphoto-shrink_100_100/0/1609520121638?e=1625097600&v=beta&t=Oea3cT6ArC6MGGSzYPBCSHuCk6nQjkF38JpmoWYvts8\n",
      "15 https://media-exp1.licdn.com/dms/image/C5103AQEPDEKubNWpWQ/profile-displayphoto-shrink_100_100/0/1519456564820?e=1625097600&v=beta&t=CIKummm-R4fOYcabYGgWGQhGXluLHCs0VSv2Wd1UGYY\n",
      "-------------------------- bristol -----------------------------\n",
      "-------------------------- bristol -----------------------------\n",
      "-------------------------- bristol -----------------------------\n",
      "-------------------------- bristol -----------------------------\n",
      "1 https://media-exp1.licdn.com/dms/image/C5603AQFy5mmQiSBdIg/profile-displayphoto-shrink_100_100/0/1516822747483?e=1625097600&v=beta&t=zyV89KQiCuDbCASFddRoqJtYbNcvEa-G49IZPa49omY\n",
      "2 https://media-exp1.licdn.com/dms/image/C4E03AQE84P1473lUhQ/profile-displayphoto-shrink_100_100/0/1555133758013?e=1625097600&v=beta&t=Gsz83FL5bQhqMG1OCxCrPdMfm9JblnD450CI59OmUk0\n",
      "3 https://media-exp1.licdn.com/dms/image/C4E03AQG3s4HfrPa0WA/profile-displayphoto-shrink_100_100/0/1516868010125?e=1625097600&v=beta&t=NfvWFpsu2bBO6o8NV7SJPesBgRvbz3HcrjaOmfg8pk8\n",
      "4 https://media-exp1.licdn.com/dms/image/C4E03AQHb9BLwkC_e6Q/profile-displayphoto-shrink_100_100/0/1537945466404?e=1625097600&v=beta&t=T-bypC-2dWmQL89LvlkWYy2OjDmGu7tXDzm8OIJaVLs\n",
      "5 https://media-exp1.licdn.com/dms/image/C5603AQEWeH72sgc96A/profile-displayphoto-shrink_100_100/0/1517622295845?e=1625097600&v=beta&t=TZbfKy5Iev14FKD1E_7XBNIwxWFMkhFKU0DmNOqeip4\n"
     ]
    },
    {
     "name": "stdout",
     "output_type": "stream",
     "text": [
      "6 https://media-exp1.licdn.com/dms/image/C5603AQGIpix1Yl2czQ/profile-displayphoto-shrink_100_100/0/1551689307647?e=1625097600&v=beta&t=83-o1AHx0cES_JdX1OdJ_N_qBu06zeFedtfG9z8qAUY\n",
      "7 https://media-exp1.licdn.com/dms/image/C4D03AQGDJRgMO-eqfA/profile-displayphoto-shrink_100_100/0/1517016574645?e=1625097600&v=beta&t=4RJQAcod3Kfwfyuxg_ebD5vnKtxpm-yYdhJ3clj1En4\n",
      "8 https://media-exp1.licdn.com/dms/image/C4E03AQGjpCbHrNFCwg/profile-displayphoto-shrink_100_100/0/1516937779677?e=1625097600&v=beta&t=0vgvhvNEOjK8wbTJlKswZY9IaKUfx2leEoW4DejDvlw\n",
      "9 https://media-exp1.licdn.com/dms/image/C4E03AQEqvSLS74K4Kg/profile-displayphoto-shrink_100_100/0/1558432770931?e=1625097600&v=beta&t=3pOD2l-KGo9hpETtc22oy7NkGzH6lFS-tPr5-Hhzyv4\n",
      "10 https://media-exp1.licdn.com/dms/image/C4D03AQG1mF_X8gAWCA/profile-displayphoto-shrink_100_100/0/1559485065237?e=1625097600&v=beta&t=S-bPh1pQg_DbW88dsTTNVO1LEuDRAg88iP5E-lE9UWw\n",
      "11 https://media-exp1.licdn.com/dms/image/C4D03AQGS0aPaAeXgYQ/profile-displayphoto-shrink_100_100/0/1554754390748?e=1625097600&v=beta&t=0cMRhuBGPvxExaLH9Eki5btkpIztGJcCD1JPKyN6k8w\n",
      "12 https://media-exp1.licdn.com/dms/image/C4D03AQE8bTsO5PHZHg/profile-displayphoto-shrink_100_100/0/1611076661177?e=1625097600&v=beta&t=KG8FMsyS7UWljGefZioV-e38ymIyI8lNJxKD-HfM53Q\n",
      "13 https://media-exp1.licdn.com/dms/image/C4D03AQERiNjZQAM2zg/profile-displayphoto-shrink_100_100/0/1517622678596?e=1625097600&v=beta&t=-sLDc7vhXk-T9EZqFQDzsobh8Y892BnNyvUOXWHB58k\n",
      "14 https://media-exp1.licdn.com/dms/image/C5603AQHE2-CAhM8RVw/profile-displayphoto-shrink_100_100/0/1529418185751?e=1625097600&v=beta&t=G57Zy13FWXLg-OhAhN7drEbbr-MGIXRhIFLSfA9CkGE\n",
      "15 https://media-exp1.licdn.com/dms/image/C4D03AQFhQxpKvT8Lgw/profile-displayphoto-shrink_100_100/0/1550820107057?e=1625097600&v=beta&t=TTrhIWoHOWPqKduPkO31m224qSFejur008Sghu3h-Ys\n"
     ]
    }
   ],
   "source": [
    "\n",
    "for j in range(len(links)):\n",
    "    #a = imgFiles[j]\n",
    "    linkList = []\n",
    "    for i in range(1,101):\n",
    "        \n",
    "        url = links[j]\n",
    "        url = url +\"&page=\"\n",
    "        url = url + str(i)\n",
    "        browser.get(url)\n",
    "        time.sleep(2)\n",
    "        print(\"--------------------------\",comps[j],\"-----------------------------\")\n",
    "\n",
    "        soup = BeautifulSoup(browser.page_source, \"lxml\")\n",
    "\n",
    "        images = soup.find_all(\"img\", {\"class\":\"ivm-view-attr__img--centered EntityPhoto-circle-3 lazy-image ember-view\"})\n",
    "\n",
    "\n",
    "\n",
    "        for image in images:\n",
    "            if \"https\" in image[\"src\"]:\n",
    "                linkList.append(image[\"src\"])\n",
    "\n",
    "\n",
    "    for num ,i in enumerate(linkList): \n",
    "        print(num+1, i) \n",
    "        downloadImage(i, comps[j]+\"/\", str(num+1))"
   ]
  },
  {
   "cell_type": "code",
   "execution_count": null,
   "metadata": {},
   "outputs": [],
   "source": []
  },
  {
   "cell_type": "code",
   "execution_count": null,
   "metadata": {},
   "outputs": [],
   "source": []
  },
  {
   "cell_type": "code",
   "execution_count": null,
   "metadata": {},
   "outputs": [],
   "source": []
  }
 ],
 "metadata": {
  "kernelspec": {
   "display_name": "Python 3",
   "language": "python",
   "name": "python3"
  },
  "language_info": {
   "codemirror_mode": {
    "name": "ipython",
    "version": 3
   },
   "file_extension": ".py",
   "mimetype": "text/x-python",
   "name": "python",
   "nbconvert_exporter": "python",
   "pygments_lexer": "ipython3",
   "version": "3.7.6"
  }
 },
 "nbformat": 4,
 "nbformat_minor": 2
}
